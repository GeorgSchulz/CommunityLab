{
 "cells": [
  {
   "cell_type": "code",
   "execution_count": 1,
   "id": "a3dc8249-9614-47d5-9892-fa4e42ba5dfd",
   "metadata": {},
   "outputs": [
    {
     "name": "stderr",
     "output_type": "stream",
     "text": [
      "Setting default log level to \"WARN\".\n",
      "To adjust logging level use sc.setLogLevel(newLevel). For SparkR, use setLogLevel(newLevel).\n"
     ]
    }
   ],
   "source": [
    "# Import PySpark\n",
    "import pyspark\n",
    "from pyspark.sql import SparkSession\n",
    "spark = SparkSession.builder.appName('Demo').getOrCreate()"
   ]
  },
  {
   "cell_type": "code",
   "execution_count": 2,
   "id": "e4302efe-f8da-4a1b-88b2-1707c59194c4",
   "metadata": {},
   "outputs": [
    {
     "name": "stdout",
     "output_type": "stream",
     "text": [
      "+---+----------+-----------------------+---+\n",
      "|id |today     |timestamp              |num|\n",
      "+---+----------+-----------------------+---+\n",
      "|0  |2024-09-09|2024-09-09 17:42:31.456|7  |\n",
      "|1  |2024-09-09|2024-09-09 17:42:31.456|8  |\n",
      "|2  |2024-09-09|2024-09-09 17:42:31.456|9  |\n",
      "+---+----------+-----------------------+---+\n",
      "\n"
     ]
    }
   ],
   "source": [
    "from pyspark.sql import functions as F\n",
    "\n",
    "# Create test data\n",
    "dateDF = spark.range(3) \\\n",
    "  .withColumn(\"today\", F.current_date()) \\\n",
    "  .withColumn(\"timestamp\",F.current_timestamp()) \\\n",
    "  .withColumn(\"num\",7+F.col(\"id\"))\n",
    "\n",
    "dateDF.show(100,False)"
   ]
  },
  {
   "cell_type": "code",
   "execution_count": 3,
   "id": "5bddce3a-ae5a-4d45-a910-251a1fc9e427",
   "metadata": {},
   "outputs": [
    {
     "name": "stderr",
     "output_type": "stream",
     "text": [
      "24/09/09 17:42:47 WARN NativeCodeLoader: Unable to load native-hadoop library for your platform... using builtin-java classes where applicable\n",
      "                                                                                \r"
     ]
    }
   ],
   "source": [
    "# Write test data to HDFS\n",
    "dateDF.write.save('hdfs:///share/dateDF', format='parquet', mode='append')"
   ]
  },
  {
   "cell_type": "code",
   "execution_count": null,
   "id": "adc37f6e-143c-4a51-bc83-87a7e7267c08",
   "metadata": {},
   "outputs": [],
   "source": []
  }
 ],
 "metadata": {
  "kernelspec": {
   "display_name": "Python 3 (ipykernel)",
   "language": "python",
   "name": "python3"
  },
  "language_info": {
   "codemirror_mode": {
    "name": "ipython",
    "version": 3
   },
   "file_extension": ".py",
   "mimetype": "text/x-python",
   "name": "python",
   "nbconvert_exporter": "python",
   "pygments_lexer": "ipython3",
   "version": "3.10.14"
  }
 },
 "nbformat": 4,
 "nbformat_minor": 5
}
