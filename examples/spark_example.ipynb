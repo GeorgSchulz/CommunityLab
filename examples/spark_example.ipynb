{
 "cells": [
  {
   "cell_type": "code",
   "execution_count": 1,
   "id": "8b7b4510-7c8e-4d88-a965-182f3ee3a336",
   "metadata": {},
   "outputs": [
    {
     "name": "stderr",
     "output_type": "stream",
     "text": [
      "Setting default log level to \"WARN\".\n",
      "To adjust logging level use sc.setLogLevel(newLevel). For SparkR, use setLogLevel(newLevel).\n",
      "WARNING: An illegal reflective access operation has occurred\n",
      "WARNING: Illegal reflective access by org.apache.hadoop.shaded.org.xbill.DNS.ResolverConfig (file:/opt/miniforge/Miniforge3-Linux-x86_64/envs/jupyterlab/lib/python3.9/site-packages/pyspark/jars/hadoop-client-runtime-3.3.2.jar) to method sun.net.dns.ResolverConfiguration.open()\n",
      "WARNING: Please consider reporting this to the maintainers of org.apache.hadoop.shaded.org.xbill.DNS.ResolverConfig\n",
      "WARNING: Use --illegal-access=warn to enable warnings of further illegal reflective access operations\n",
      "WARNING: All illegal access operations will be denied in a future release\n"
     ]
    }
   ],
   "source": [
    "# Import PySpark\n",
    "import pyspark\n",
    "from pyspark.sql import SparkSession\n",
    "spark = SparkSession.builder.appName('Demo').getOrCreate()"
   ]
  },
  {
   "cell_type": "code",
   "execution_count": 2,
   "id": "fd80390f-e81d-4e55-8f00-cb9094897f01",
   "metadata": {},
   "outputs": [
    {
     "name": "stdout",
     "output_type": "stream",
     "text": [
      "+---+----------+--------------------------+---+\n",
      "|id |today     |timestamp                 |num|\n",
      "+---+----------+--------------------------+---+\n",
      "|0  |2023-10-16|2023-10-16 05:57:46.349056|7  |\n",
      "|1  |2023-10-16|2023-10-16 05:57:46.349056|8  |\n",
      "|2  |2023-10-16|2023-10-16 05:57:46.349056|9  |\n",
      "+---+----------+--------------------------+---+\n",
      "\n"
     ]
    }
   ],
   "source": [
    "from pyspark.sql import functions as F\n",
    "\n",
    "# Create test data\n",
    "dateDF = spark.range(3) \\\n",
    "  .withColumn(\"today\", F.current_date()) \\\n",
    "  .withColumn(\"timestamp\",F.current_timestamp()) \\\n",
    "  .withColumn(\"num\",7+F.col(\"id\"))\n",
    "\n",
    "dateDF.show(100,False)"
   ]
  },
  {
   "cell_type": "code",
   "execution_count": 3,
   "id": "efbdf0fb-1a7e-4972-9db1-3d30be0a3828",
   "metadata": {},
   "outputs": [
    {
     "name": "stdout",
     "output_type": "stream",
     "text": [
      "23/10/16 05:58:58 WARN NativeCodeLoader: Unable to load native-hadoop library for your platform... using builtin-java classes where applicable\n"
     ]
    },
    {
     "name": "stderr",
     "output_type": "stream",
     "text": [
      "                                                                                \r"
     ]
    }
   ],
   "source": [
    "# Write test data to HDFS\n",
    "dateDF.write.save('hdfs:///share/dateDF', format='parquet', mode='append')"
   ]
  },
  {
   "cell_type": "code",
   "execution_count": null,
   "id": "3acb4136-15d4-40b0-ae42-5ddd7c55c65b",
   "metadata": {},
   "outputs": [],
   "source": []
  }
 ],
 "metadata": {
  "kernelspec": {
   "display_name": "Python 3 (ipykernel)",
   "language": "python",
   "name": "python3"
  },
  "language_info": {
   "codemirror_mode": {
    "name": "ipython",
    "version": 3
   },
   "file_extension": ".py",
   "mimetype": "text/x-python",
   "name": "python",
   "nbconvert_exporter": "python",
   "pygments_lexer": "ipython3",
   "version": "3.9.0"
  }
 },
 "nbformat": 4,
 "nbformat_minor": 5
}
